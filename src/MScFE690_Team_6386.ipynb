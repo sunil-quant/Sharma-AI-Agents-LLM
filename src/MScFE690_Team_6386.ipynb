{
 "cells": [
  {
   "cell_type": "markdown",
   "metadata": {},
   "source": [
    "---\n",
    "# Capstone Project\n",
    "**Student Group 6386**\n",
    "\n",
    "Sunil Sharma (<sunilksh+mscfe@outlook.com>)\n",
    "\n",
    "Wooi Hen Yap  (<whyap76@gmail.com>)\n",
    "\n",
    "---"
   ]
  },
  {
   "cell_type": "markdown",
   "metadata": {},
   "source": [
    "## Data Loading"
   ]
  },
  {
   "cell_type": "markdown",
   "metadata": {},
   "source": [
    "## Exploratory Data Analysis"
   ]
  }
 ],
 "metadata": {
  "language_info": {
   "name": "python"
  }
 },
 "nbformat": 4,
 "nbformat_minor": 2
}
